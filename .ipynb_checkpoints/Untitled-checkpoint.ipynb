{
 "cells": [
  {
   "cell_type": "markdown",
   "id": "508d5a4a-355e-420f-b589-01d896c8555b",
   "metadata": {},
   "source": [
    "## Unsupervised Anomaly Detection in Lymphoma Patients"
   ]
  },
  {
   "cell_type": "markdown",
   "id": "8defb9d7-b5cf-4754-8ccf-f0c3fa20f3f9",
   "metadata": {},
   "source": [
    "In this notebook we will explore a dataset that describes the medical condition of Lymphoma patients.\n",
    "We will also implement some anomaly detection algorithms as we do not have domain knowledge in this field."
   ]
  },
  {
   "cell_type": "code",
   "execution_count": 2,
   "id": "f2a1c462-cf3f-439c-a07c-938c6e358b1d",
   "metadata": {},
   "outputs": [],
   "source": [
    "import numpy as np\n",
    "import pandas as pd\n",
    "import matplotlib as plt"
   ]
  },
  {
   "cell_type": "code",
   "execution_count": null,
   "id": "c0aae1bb-8b12-42f6-82f3-5cb056405f6c",
   "metadata": {},
   "outputs": [],
   "source": [
    "df = "
   ]
  }
 ],
 "metadata": {
  "kernelspec": {
   "display_name": "Python 3 (ipykernel)",
   "language": "python",
   "name": "python3"
  },
  "language_info": {
   "codemirror_mode": {
    "name": "ipython",
    "version": 3
   },
   "file_extension": ".py",
   "mimetype": "text/x-python",
   "name": "python",
   "nbconvert_exporter": "python",
   "pygments_lexer": "ipython3",
   "version": "3.8.11"
  }
 },
 "nbformat": 4,
 "nbformat_minor": 5
}
